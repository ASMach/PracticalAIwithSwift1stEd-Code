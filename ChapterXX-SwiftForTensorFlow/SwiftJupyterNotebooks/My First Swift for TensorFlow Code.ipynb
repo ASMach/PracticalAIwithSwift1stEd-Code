{
 "cells": [
  {
   "cell_type": "code",
   "execution_count": 3,
   "metadata": {},
   "outputs": [
    {
     "name": "stdout",
     "output_type": "stream",
     "text": [
      "[[1.0, 2.0],\r\n",
      " [3.0, 4.0]]\r\n"
     ]
    }
   ],
   "source": [
    "// BEGIN S4TF_jupyter_1\n",
    "import TensorFlow\n",
    "\n",
    "let x = Tensor<Float>([[1, 2], [3, 4]])\n",
    "\n",
    "print(x)\n",
    "// END S4TF_jupyter_1"
   ]
  },
  {
   "cell_type": "code",
   "execution_count": null,
   "metadata": {},
   "outputs": [],
   "source": []
  },
  {
   "cell_type": "code",
   "execution_count": null,
   "metadata": {},
   "outputs": [],
   "source": []
  }
 ],
 "metadata": {
  "kernelspec": {
   "display_name": "Swift",
   "language": "swift",
   "name": "swift"
  },
  "language_info": {
   "file_extension": ".swift",
   "mimetype": "text/x-swift",
   "name": "swift",
   "version": ""
  }
 },
 "nbformat": 4,
 "nbformat_minor": 2
}
